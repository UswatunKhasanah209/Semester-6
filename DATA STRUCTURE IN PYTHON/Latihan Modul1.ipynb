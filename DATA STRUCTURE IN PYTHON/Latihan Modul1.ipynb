{
  "nbformat": 4,
  "nbformat_minor": 0,
  "metadata": {
    "colab": {
      "provenance": []
    },
    "kernelspec": {
      "name": "python3",
      "display_name": "Python 3"
    },
    "language_info": {
      "name": "python"
    }
  },
  "cells": [
    {
      "cell_type": "markdown",
      "source": [
        "<h2>USWATUN KHASANAH<h2>"
      ],
      "metadata": {
        "id": "Q4BsaaBrcDvK"
      }
    },
    {
      "cell_type": "markdown",
      "source": [
        "1. Buatlah sebuah list dengan 5 buah angka acak antara 1 sampai 10."
      ],
      "metadata": {
        "id": "jQ7cZG6abKop"
      }
    },
    {
      "cell_type": "code",
      "execution_count": null,
      "metadata": {
        "id": "ktOZe8EBayeq",
        "colab": {
          "base_uri": "https://localhost:8080/"
        },
        "outputId": "8103631a-25b0-4c54-bcfc-3e9d50417daa"
      },
      "outputs": [
        {
          "output_type": "execute_result",
          "data": {
            "text/plain": [
              "[1, 3, 5, 7, 9]"
            ]
          },
          "metadata": {},
          "execution_count": 1
        }
      ],
      "source": [
        "# Tulis kode disini\n",
        "list = [1, 3, 5, 7, 9]\n",
        "list"
      ]
    },
    {
      "cell_type": "markdown",
      "source": [
        "2. Ubah list tersebut menjadi tuple."
      ],
      "metadata": {
        "id": "x5KYNYnybPXx"
      }
    },
    {
      "cell_type": "code",
      "source": [
        "# Tulis kode disini\n",
        "list = [1, 3, 5, 7, 9]\n",
        "print(tuple(list))"
      ],
      "metadata": {
        "id": "7Y5fH08fbiiS",
        "colab": {
          "base_uri": "https://localhost:8080/"
        },
        "outputId": "9212eff2-252e-442e-eb74-598536879003"
      },
      "execution_count": null,
      "outputs": [
        {
          "output_type": "stream",
          "name": "stdout",
          "text": [
            "(1, 3, 5, 7, 9)\n"
          ]
        }
      ]
    },
    {
      "cell_type": "markdown",
      "source": [
        "3. Tambahkan angka acak lainnya ke dalam tuple (ingat bahwa tuple tidak bisa diubah, jadi anda harus membuat tuple baru)."
      ],
      "metadata": {
        "id": "Q7s48fPLbRyp"
      }
    },
    {
      "cell_type": "code",
      "source": [
        "# Tulis kode disini\n",
        "list1 = [8, 6, 2, 4, 10]\n",
        "list2 = tuple(list1)\n",
        "list3 = (1, 5)\n",
        "hasil = list2 + list3\n",
        "print(type(hasil))"
      ],
      "metadata": {
        "id": "DFMFlqlTbjNb",
        "colab": {
          "base_uri": "https://localhost:8080/"
        },
        "outputId": "42c525a2-aaa6-44eb-bd59-d3bc446483e1"
      },
      "execution_count": null,
      "outputs": [
        {
          "output_type": "stream",
          "name": "stdout",
          "text": [
            "<class 'tuple'>\n",
            "<class 'tuple'>\n"
          ]
        }
      ]
    },
    {
      "cell_type": "markdown",
      "source": [
        "4. Buatlah sebuah fungsi yang menerima tuple angka dan mengembalikan tuple dengan elemen yang terurut."
      ],
      "metadata": {
        "id": "BWuKwL9QbUrI"
      }
    },
    {
      "cell_type": "code",
      "source": [
        "# Tulis kode disini\n",
        "list2 = [8, 6, 2, 4, 10]\n",
        "list3 = tuple(list2)\n",
        "sorted_tuple = sorted(list3)\n",
        "print(type(sorted_tuple))"
      ],
      "metadata": {
        "id": "E30vjMaEbjsN",
        "colab": {
          "base_uri": "https://localhost:8080/"
        },
        "outputId": "bc83b8f7-4a58-4383-9b34-d3072f5afe03"
      },
      "execution_count": null,
      "outputs": [
        {
          "output_type": "stream",
          "name": "stdout",
          "text": [
            "<class 'list'>\n"
          ]
        }
      ]
    },
    {
      "cell_type": "markdown",
      "source": [
        "5. Buat array Numpy 1D yang berisi 5 bilangan bulat acak dari 1 sampai 10."
      ],
      "metadata": {
        "id": "dC8vnk4QbXT4"
      }
    },
    {
      "cell_type": "code",
      "source": [
        "# Tulis kode disini\n",
        "import numpy as np\n",
        "\n",
        "a = np.array([6, 9, 8, 4, 2])\n",
        "a"
      ],
      "metadata": {
        "id": "F8AvrBElbkRS",
        "colab": {
          "base_uri": "https://localhost:8080/"
        },
        "outputId": "8be73d59-61d9-4061-b4eb-03f512b42925"
      },
      "execution_count": null,
      "outputs": [
        {
          "output_type": "execute_result",
          "data": {
            "text/plain": [
              "array([6, 9, 8, 4, 2])"
            ]
          },
          "metadata": {},
          "execution_count": 5
        }
      ]
    },
    {
      "cell_type": "markdown",
      "source": [
        "6. Hitung mean, median, dan standar deviasi dari array tersebut.\n",
        "Code Jawabannya:"
      ],
      "metadata": {
        "id": "4RXWfEuvba5Y"
      }
    },
    {
      "cell_type": "code",
      "source": [
        "# Tulis kode disini\n",
        "import numpy as np\n",
        "\n",
        "a = np.array([2, 4, 6, 8, 10])\n",
        "mean = np.mean(a)\n",
        "median = np.median(a)\n",
        "std_dev = np.std(a)\n",
        "\n",
        "print(a)\n",
        "print(\"Mean : \" ,mean)\n",
        "print(\"Median : \" ,median)\n",
        "print(\"standar deviasi : \" ,std_dev)"
      ],
      "metadata": {
        "id": "sDpL_VPcbk1G",
        "colab": {
          "base_uri": "https://localhost:8080/"
        },
        "outputId": "27d8b5c6-53f3-4a59-d8a1-66817943e07b"
      },
      "execution_count": null,
      "outputs": [
        {
          "output_type": "stream",
          "name": "stdout",
          "text": [
            "[ 2  4  6  8 10]\n",
            "Mean :  6.0\n",
            "Median :  6.0\n",
            "standar deviasi :  2.8284271247461903\n"
          ]
        }
      ]
    },
    {
      "cell_type": "markdown",
      "source": [
        "7. Buatlah array 2D (3x3) yang berisi angka acak."
      ],
      "metadata": {
        "id": "X-cl__r8bdP3"
      }
    },
    {
      "cell_type": "code",
      "source": [
        "# Tulis kode disini\n",
        "import numpy as np\n",
        "\n",
        "a = np.array([[1, 2, 3], [4, 8, 9], [4, 9, 1]])\n",
        "a"
      ],
      "metadata": {
        "id": "HRH_xNKublYR",
        "colab": {
          "base_uri": "https://localhost:8080/"
        },
        "outputId": "8d0adef2-1e5d-4bd0-d866-7091232f9fec"
      },
      "execution_count": null,
      "outputs": [
        {
          "output_type": "execute_result",
          "data": {
            "text/plain": [
              "array([[1, 2, 3],\n",
              "       [4, 8, 9],\n",
              "       [4, 9, 1]])"
            ]
          },
          "metadata": {},
          "execution_count": 8
        }
      ]
    },
    {
      "cell_type": "markdown",
      "source": [
        "8. Datar atau flatten array 2D tersebut menjadi array 1D."
      ],
      "metadata": {
        "id": "yXyFAwe8bp6w"
      }
    },
    {
      "cell_type": "code",
      "source": [
        "# Tulis kode disini\n",
        "import numpy as np\n",
        "\n",
        "a = np.array([[1, 2, 3], [4, 5, 6], [7, 8, 9]])\n",
        "\n",
        "b = a.flatten()\n",
        "print(b)"
      ],
      "metadata": {
        "id": "RhQhKG6UbqlF",
        "colab": {
          "base_uri": "https://localhost:8080/"
        },
        "outputId": "8d573a24-b19c-41af-a6f1-a63d45b21770"
      },
      "execution_count": null,
      "outputs": [
        {
          "output_type": "stream",
          "name": "stdout",
          "text": [
            "[1 2 3 4 5 6 7 8 9]\n"
          ]
        }
      ]
    },
    {
      "cell_type": "markdown",
      "source": [
        "9. Buatlah DataFrame Pandas sederhana yang berisi data nama, usia, dan kota dari 3 orang."
      ],
      "metadata": {
        "id": "eTVHBnMxbuCP"
      }
    },
    {
      "cell_type": "code",
      "source": [
        "# Tulis kode disini\n",
        "import pandas as pd\n",
        "\n",
        "data = {\n",
        "    'Nama': ['Risma', 'Lusy', 'Wulan'],\n",
        "    'Usia': [22, 20, 22],\n",
        "    'Kota': ['Tulungagung', 'Gresik', 'Tulungagung']\n",
        "}\n",
        "\n",
        "df = pd.DataFrame(data)\n",
        "\n",
        "print(df)"
      ],
      "metadata": {
        "id": "8yMFp_uQb_bF",
        "colab": {
          "base_uri": "https://localhost:8080/"
        },
        "outputId": "767dca67-e715-4b3f-814c-de99d635a888"
      },
      "execution_count": null,
      "outputs": [
        {
          "output_type": "stream",
          "name": "stdout",
          "text": [
            "    Nama  Usia         Kota\n",
            "0  Risma    22  Tulungagung\n",
            "1   Lusy    20       Gresik\n",
            "2  Wulan    22  Tulungagung\n"
          ]
        }
      ]
    },
    {
      "cell_type": "markdown",
      "source": [
        "10. Tambahkan kolom 'Pekerjaan' ke DataFrame tersebut."
      ],
      "metadata": {
        "id": "kQ24dANgbyx6"
      }
    },
    {
      "cell_type": "code",
      "source": [
        "# Tulis kode disini\n",
        "import pandas as pd\n",
        "\n",
        "data = {\n",
        "    'Nama': ['Risma', 'Lusy', 'Wulan'],\n",
        "    'Usia': [22, 20, 22],\n",
        "    'Kota': ['Tulungagung', 'Gresik', 'Tulungagung'],\n",
        "}\n",
        "\n",
        "df = pd.DataFrame(data)\n",
        "df ['pekerjaan'] = ['Pengusaha', 'Pengusaha', 'Selebgram']\n",
        "\n",
        "print(df)"
      ],
      "metadata": {
        "id": "EhdTkYJIcAqA",
        "colab": {
          "base_uri": "https://localhost:8080/"
        },
        "outputId": "f868f0da-2bc5-434b-abb5-709ce29e8375"
      },
      "execution_count": null,
      "outputs": [
        {
          "output_type": "stream",
          "name": "stdout",
          "text": [
            "    Nama  Usia         Kota  Pekerjaan\n",
            "0  Risma    22  Tulungagung  Pengusaha\n",
            "1   Lusy    20       Gresik  Pengusaha\n",
            "2  Wulan    22  Tulungagung  Selebgram\n"
          ]
        }
      ]
    },
    {
      "cell_type": "markdown",
      "source": [
        "11. Ubahlah usia salah satu nama menjadi 31."
      ],
      "metadata": {
        "id": "B4aY8ZaAb1h8"
      }
    },
    {
      "cell_type": "code",
      "source": [
        "# Tulis kode disini\n",
        "import pandas as pd\n",
        "\n",
        "data = {\n",
        "    'Nama': ['Risma', 'Lusy', 'Wulan'],\n",
        "    'Usia': [22, 20, 22],\n",
        "    'Kota': ['Tulungagung', 'Gresik', 'Tulungagung'],\n",
        "    'Pekerjaan': ['Pengusaha', 'Pengusaha', 'Selebgram']\n",
        "}\n",
        "\n",
        "df = pd.DataFrame(data)\n",
        "\n",
        "df.loc[df['Nama'] == 'Lusy', 'Usia'] = 21\n",
        "\n",
        "print(df)"
      ],
      "metadata": {
        "id": "jOF8L4L0cBOM",
        "colab": {
          "base_uri": "https://localhost:8080/"
        },
        "outputId": "6a479ca1-2236-4c04-8fca-b7ceb3d2d34a"
      },
      "execution_count": null,
      "outputs": [
        {
          "output_type": "stream",
          "name": "stdout",
          "text": [
            "    Nama  Usia         Kota  Pekerjaan\n",
            "0  Risma    22  Tulungagung  Pengusaha\n",
            "1   Lusy    21       Gresik  Pengusaha\n",
            "2  Wulan    22  Tulungagung  Selebgram\n"
          ]
        }
      ]
    },
    {
      "cell_type": "markdown",
      "source": [
        "12. Urutkan DataFrame berdasarkan usia dari yang muda ke yang tua.\n",
        "Code Jawabannya:"
      ],
      "metadata": {
        "id": "ZoEOO-Rkb7YB"
      }
    },
    {
      "cell_type": "code",
      "source": [
        "# Tulis kode disini\n",
        "import pandas as pd\n",
        "\n",
        "data = {\n",
        "    'Nama': ['Risma', 'Lusy', 'Wulan'],\n",
        "    'Usia': [22, 20, 22],\n",
        "    'Kota': ['Tulungagung', 'Gresik', 'Tulungagung'],\n",
        "    'Pekerjaan': ['Pengusaha', 'Pengusaha', 'Seleb']\n",
        "}\n",
        "\n",
        "df = pd.DataFrame(data)\n",
        "\n",
        "df_urut_usia = df.sort_values(by='Usia')\n",
        "\n",
        "print(df_urut_usia)"
      ],
      "metadata": {
        "id": "fy1IPKpCcBow",
        "colab": {
          "base_uri": "https://localhost:8080/"
        },
        "outputId": "22caf691-5cd7-49cd-8b22-dbece2189721"
      },
      "execution_count": null,
      "outputs": [
        {
          "output_type": "stream",
          "name": "stdout",
          "text": [
            "    Nama  Usia         Kota  Pekerjaan\n",
            "0  Risma    22  Tulungagung  Pengusaha\n",
            "2  Wulan    22  Tulungagung      Seleb\n",
            "1   Lusy    30       Gresik  Pengusaha\n"
          ]
        }
      ]
    }
  ]
}