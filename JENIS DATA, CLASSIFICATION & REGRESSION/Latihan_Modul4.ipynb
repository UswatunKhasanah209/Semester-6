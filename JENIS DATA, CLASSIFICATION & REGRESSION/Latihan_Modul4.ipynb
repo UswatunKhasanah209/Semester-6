{
  "nbformat": 4,
  "nbformat_minor": 0,
  "metadata": {
    "colab": {
      "provenance": []
    },
    "kernelspec": {
      "name": "python3",
      "display_name": "Python 3"
    },
    "language_info": {
      "name": "python"
    }
  },
  "cells": [
    {
      "cell_type": "code",
      "source": [
        "from google.colab import drive\n",
        "drive.mount('/content/drive')"
      ],
      "metadata": {
        "colab": {
          "base_uri": "https://localhost:8080/"
        },
        "id": "sudU3ap70Jez",
        "outputId": "7333490d-22db-45e0-cde6-43a7b743e84e"
      },
      "execution_count": null,
      "outputs": [
        {
          "output_type": "stream",
          "name": "stdout",
          "text": [
            "Drive already mounted at /content/drive; to attempt to forcibly remount, call drive.mount(\"/content/drive\", force_remount=True).\n"
          ]
        }
      ]
    },
    {
      "cell_type": "markdown",
      "source": [
        "Import Library yang diperlukan"
      ],
      "metadata": {
        "id": "CrOiOB3bnzbd"
      }
    },
    {
      "cell_type": "code",
      "source": [
        "import pandas as pd\n",
        "from sklearn.model_selection import train_test_split\n",
        "from sklearn.preprocessing import StandardScaler\n",
        "from sklearn.ensemble import RandomForestClassifier\n",
        "from sklearn.metrics import classification_report\n",
        "from sklearn.preprocessing import LabelEncoder\n"
      ],
      "metadata": {
        "id": "eMAdqDuVnzCS"
      },
      "execution_count": null,
      "outputs": []
    },
    {
      "cell_type": "markdown",
      "source": [
        "Langkah 1: Pra-pemrosesan Data"
      ],
      "metadata": {
        "id": "H035oMuHni_W"
      }
    },
    {
      "cell_type": "code",
      "execution_count": null,
      "metadata": {
        "id": "PSuB0U6jmM51",
        "colab": {
          "base_uri": "https://localhost:8080/",
          "height": 423
        },
        "outputId": "0450555c-dde3-439f-b4ea-ebd5a4269e08"
      },
      "outputs": [
        {
          "output_type": "execute_result",
          "data": {
            "text/plain": [
              "       UserID    Kelamin  Usia  EstimasiGaji  Beli\n",
              "0    15624510       Laki    19         19000     0\n",
              "1    15810944       Laki    35         20000     0\n",
              "2    15668575  Perempuan    26         43000     0\n",
              "3    15603246  Perempuan    27         57000     0\n",
              "4    15804002       Laki    19         76000     0\n",
              "..        ...        ...   ...           ...   ...\n",
              "395  15691863  Perempuan    46         41000     1\n",
              "396  15706071       Laki    51         23000     1\n",
              "397  15654296  Perempuan    50         20000     1\n",
              "398  15755018       Laki    36         33000     0\n",
              "399  15594041  Perempuan    49         36000     1\n",
              "\n",
              "[400 rows x 5 columns]"
            ],
            "text/html": [
              "\n",
              "  <div id=\"df-283133a4-28d8-4584-97b7-e2b2b53ba299\" class=\"colab-df-container\">\n",
              "    <div>\n",
              "<style scoped>\n",
              "    .dataframe tbody tr th:only-of-type {\n",
              "        vertical-align: middle;\n",
              "    }\n",
              "\n",
              "    .dataframe tbody tr th {\n",
              "        vertical-align: top;\n",
              "    }\n",
              "\n",
              "    .dataframe thead th {\n",
              "        text-align: right;\n",
              "    }\n",
              "</style>\n",
              "<table border=\"1\" class=\"dataframe\">\n",
              "  <thead>\n",
              "    <tr style=\"text-align: right;\">\n",
              "      <th></th>\n",
              "      <th>UserID</th>\n",
              "      <th>Kelamin</th>\n",
              "      <th>Usia</th>\n",
              "      <th>EstimasiGaji</th>\n",
              "      <th>Beli</th>\n",
              "    </tr>\n",
              "  </thead>\n",
              "  <tbody>\n",
              "    <tr>\n",
              "      <th>0</th>\n",
              "      <td>15624510</td>\n",
              "      <td>Laki</td>\n",
              "      <td>19</td>\n",
              "      <td>19000</td>\n",
              "      <td>0</td>\n",
              "    </tr>\n",
              "    <tr>\n",
              "      <th>1</th>\n",
              "      <td>15810944</td>\n",
              "      <td>Laki</td>\n",
              "      <td>35</td>\n",
              "      <td>20000</td>\n",
              "      <td>0</td>\n",
              "    </tr>\n",
              "    <tr>\n",
              "      <th>2</th>\n",
              "      <td>15668575</td>\n",
              "      <td>Perempuan</td>\n",
              "      <td>26</td>\n",
              "      <td>43000</td>\n",
              "      <td>0</td>\n",
              "    </tr>\n",
              "    <tr>\n",
              "      <th>3</th>\n",
              "      <td>15603246</td>\n",
              "      <td>Perempuan</td>\n",
              "      <td>27</td>\n",
              "      <td>57000</td>\n",
              "      <td>0</td>\n",
              "    </tr>\n",
              "    <tr>\n",
              "      <th>4</th>\n",
              "      <td>15804002</td>\n",
              "      <td>Laki</td>\n",
              "      <td>19</td>\n",
              "      <td>76000</td>\n",
              "      <td>0</td>\n",
              "    </tr>\n",
              "    <tr>\n",
              "      <th>...</th>\n",
              "      <td>...</td>\n",
              "      <td>...</td>\n",
              "      <td>...</td>\n",
              "      <td>...</td>\n",
              "      <td>...</td>\n",
              "    </tr>\n",
              "    <tr>\n",
              "      <th>395</th>\n",
              "      <td>15691863</td>\n",
              "      <td>Perempuan</td>\n",
              "      <td>46</td>\n",
              "      <td>41000</td>\n",
              "      <td>1</td>\n",
              "    </tr>\n",
              "    <tr>\n",
              "      <th>396</th>\n",
              "      <td>15706071</td>\n",
              "      <td>Laki</td>\n",
              "      <td>51</td>\n",
              "      <td>23000</td>\n",
              "      <td>1</td>\n",
              "    </tr>\n",
              "    <tr>\n",
              "      <th>397</th>\n",
              "      <td>15654296</td>\n",
              "      <td>Perempuan</td>\n",
              "      <td>50</td>\n",
              "      <td>20000</td>\n",
              "      <td>1</td>\n",
              "    </tr>\n",
              "    <tr>\n",
              "      <th>398</th>\n",
              "      <td>15755018</td>\n",
              "      <td>Laki</td>\n",
              "      <td>36</td>\n",
              "      <td>33000</td>\n",
              "      <td>0</td>\n",
              "    </tr>\n",
              "    <tr>\n",
              "      <th>399</th>\n",
              "      <td>15594041</td>\n",
              "      <td>Perempuan</td>\n",
              "      <td>49</td>\n",
              "      <td>36000</td>\n",
              "      <td>1</td>\n",
              "    </tr>\n",
              "  </tbody>\n",
              "</table>\n",
              "<p>400 rows × 5 columns</p>\n",
              "</div>\n",
              "    <div class=\"colab-df-buttons\">\n",
              "\n",
              "  <div class=\"colab-df-container\">\n",
              "    <button class=\"colab-df-convert\" onclick=\"convertToInteractive('df-283133a4-28d8-4584-97b7-e2b2b53ba299')\"\n",
              "            title=\"Convert this dataframe to an interactive table.\"\n",
              "            style=\"display:none;\">\n",
              "\n",
              "  <svg xmlns=\"http://www.w3.org/2000/svg\" height=\"24px\" viewBox=\"0 -960 960 960\">\n",
              "    <path d=\"M120-120v-720h720v720H120Zm60-500h600v-160H180v160Zm220 220h160v-160H400v160Zm0 220h160v-160H400v160ZM180-400h160v-160H180v160Zm440 0h160v-160H620v160ZM180-180h160v-160H180v160Zm440 0h160v-160H620v160Z\"/>\n",
              "  </svg>\n",
              "    </button>\n",
              "\n",
              "  <style>\n",
              "    .colab-df-container {\n",
              "      display:flex;\n",
              "      gap: 12px;\n",
              "    }\n",
              "\n",
              "    .colab-df-convert {\n",
              "      background-color: #E8F0FE;\n",
              "      border: none;\n",
              "      border-radius: 50%;\n",
              "      cursor: pointer;\n",
              "      display: none;\n",
              "      fill: #1967D2;\n",
              "      height: 32px;\n",
              "      padding: 0 0 0 0;\n",
              "      width: 32px;\n",
              "    }\n",
              "\n",
              "    .colab-df-convert:hover {\n",
              "      background-color: #E2EBFA;\n",
              "      box-shadow: 0px 1px 2px rgba(60, 64, 67, 0.3), 0px 1px 3px 1px rgba(60, 64, 67, 0.15);\n",
              "      fill: #174EA6;\n",
              "    }\n",
              "\n",
              "    .colab-df-buttons div {\n",
              "      margin-bottom: 4px;\n",
              "    }\n",
              "\n",
              "    [theme=dark] .colab-df-convert {\n",
              "      background-color: #3B4455;\n",
              "      fill: #D2E3FC;\n",
              "    }\n",
              "\n",
              "    [theme=dark] .colab-df-convert:hover {\n",
              "      background-color: #434B5C;\n",
              "      box-shadow: 0px 1px 3px 1px rgba(0, 0, 0, 0.15);\n",
              "      filter: drop-shadow(0px 1px 2px rgba(0, 0, 0, 0.3));\n",
              "      fill: #FFFFFF;\n",
              "    }\n",
              "  </style>\n",
              "\n",
              "    <script>\n",
              "      const buttonEl =\n",
              "        document.querySelector('#df-283133a4-28d8-4584-97b7-e2b2b53ba299 button.colab-df-convert');\n",
              "      buttonEl.style.display =\n",
              "        google.colab.kernel.accessAllowed ? 'block' : 'none';\n",
              "\n",
              "      async function convertToInteractive(key) {\n",
              "        const element = document.querySelector('#df-283133a4-28d8-4584-97b7-e2b2b53ba299');\n",
              "        const dataTable =\n",
              "          await google.colab.kernel.invokeFunction('convertToInteractive',\n",
              "                                                    [key], {});\n",
              "        if (!dataTable) return;\n",
              "\n",
              "        const docLinkHtml = 'Like what you see? Visit the ' +\n",
              "          '<a target=\"_blank\" href=https://colab.research.google.com/notebooks/data_table.ipynb>data table notebook</a>'\n",
              "          + ' to learn more about interactive tables.';\n",
              "        element.innerHTML = '';\n",
              "        dataTable['output_type'] = 'display_data';\n",
              "        await google.colab.output.renderOutput(dataTable, element);\n",
              "        const docLink = document.createElement('div');\n",
              "        docLink.innerHTML = docLinkHtml;\n",
              "        element.appendChild(docLink);\n",
              "      }\n",
              "    </script>\n",
              "  </div>\n",
              "\n",
              "\n",
              "<div id=\"df-7baf3bb8-5926-4c5d-a240-19e50328a747\">\n",
              "  <button class=\"colab-df-quickchart\" onclick=\"quickchart('df-7baf3bb8-5926-4c5d-a240-19e50328a747')\"\n",
              "            title=\"Suggest charts\"\n",
              "            style=\"display:none;\">\n",
              "\n",
              "<svg xmlns=\"http://www.w3.org/2000/svg\" height=\"24px\"viewBox=\"0 0 24 24\"\n",
              "     width=\"24px\">\n",
              "    <g>\n",
              "        <path d=\"M19 3H5c-1.1 0-2 .9-2 2v14c0 1.1.9 2 2 2h14c1.1 0 2-.9 2-2V5c0-1.1-.9-2-2-2zM9 17H7v-7h2v7zm4 0h-2V7h2v10zm4 0h-2v-4h2v4z\"/>\n",
              "    </g>\n",
              "</svg>\n",
              "  </button>\n",
              "\n",
              "<style>\n",
              "  .colab-df-quickchart {\n",
              "      --bg-color: #E8F0FE;\n",
              "      --fill-color: #1967D2;\n",
              "      --hover-bg-color: #E2EBFA;\n",
              "      --hover-fill-color: #174EA6;\n",
              "      --disabled-fill-color: #AAA;\n",
              "      --disabled-bg-color: #DDD;\n",
              "  }\n",
              "\n",
              "  [theme=dark] .colab-df-quickchart {\n",
              "      --bg-color: #3B4455;\n",
              "      --fill-color: #D2E3FC;\n",
              "      --hover-bg-color: #434B5C;\n",
              "      --hover-fill-color: #FFFFFF;\n",
              "      --disabled-bg-color: #3B4455;\n",
              "      --disabled-fill-color: #666;\n",
              "  }\n",
              "\n",
              "  .colab-df-quickchart {\n",
              "    background-color: var(--bg-color);\n",
              "    border: none;\n",
              "    border-radius: 50%;\n",
              "    cursor: pointer;\n",
              "    display: none;\n",
              "    fill: var(--fill-color);\n",
              "    height: 32px;\n",
              "    padding: 0;\n",
              "    width: 32px;\n",
              "  }\n",
              "\n",
              "  .colab-df-quickchart:hover {\n",
              "    background-color: var(--hover-bg-color);\n",
              "    box-shadow: 0 1px 2px rgba(60, 64, 67, 0.3), 0 1px 3px 1px rgba(60, 64, 67, 0.15);\n",
              "    fill: var(--button-hover-fill-color);\n",
              "  }\n",
              "\n",
              "  .colab-df-quickchart-complete:disabled,\n",
              "  .colab-df-quickchart-complete:disabled:hover {\n",
              "    background-color: var(--disabled-bg-color);\n",
              "    fill: var(--disabled-fill-color);\n",
              "    box-shadow: none;\n",
              "  }\n",
              "\n",
              "  .colab-df-spinner {\n",
              "    border: 2px solid var(--fill-color);\n",
              "    border-color: transparent;\n",
              "    border-bottom-color: var(--fill-color);\n",
              "    animation:\n",
              "      spin 1s steps(1) infinite;\n",
              "  }\n",
              "\n",
              "  @keyframes spin {\n",
              "    0% {\n",
              "      border-color: transparent;\n",
              "      border-bottom-color: var(--fill-color);\n",
              "      border-left-color: var(--fill-color);\n",
              "    }\n",
              "    20% {\n",
              "      border-color: transparent;\n",
              "      border-left-color: var(--fill-color);\n",
              "      border-top-color: var(--fill-color);\n",
              "    }\n",
              "    30% {\n",
              "      border-color: transparent;\n",
              "      border-left-color: var(--fill-color);\n",
              "      border-top-color: var(--fill-color);\n",
              "      border-right-color: var(--fill-color);\n",
              "    }\n",
              "    40% {\n",
              "      border-color: transparent;\n",
              "      border-right-color: var(--fill-color);\n",
              "      border-top-color: var(--fill-color);\n",
              "    }\n",
              "    60% {\n",
              "      border-color: transparent;\n",
              "      border-right-color: var(--fill-color);\n",
              "    }\n",
              "    80% {\n",
              "      border-color: transparent;\n",
              "      border-right-color: var(--fill-color);\n",
              "      border-bottom-color: var(--fill-color);\n",
              "    }\n",
              "    90% {\n",
              "      border-color: transparent;\n",
              "      border-bottom-color: var(--fill-color);\n",
              "    }\n",
              "  }\n",
              "</style>\n",
              "\n",
              "  <script>\n",
              "    async function quickchart(key) {\n",
              "      const quickchartButtonEl =\n",
              "        document.querySelector('#' + key + ' button');\n",
              "      quickchartButtonEl.disabled = true;  // To prevent multiple clicks.\n",
              "      quickchartButtonEl.classList.add('colab-df-spinner');\n",
              "      try {\n",
              "        const charts = await google.colab.kernel.invokeFunction(\n",
              "            'suggestCharts', [key], {});\n",
              "      } catch (error) {\n",
              "        console.error('Error during call to suggestCharts:', error);\n",
              "      }\n",
              "      quickchartButtonEl.classList.remove('colab-df-spinner');\n",
              "      quickchartButtonEl.classList.add('colab-df-quickchart-complete');\n",
              "    }\n",
              "    (() => {\n",
              "      let quickchartButtonEl =\n",
              "        document.querySelector('#df-7baf3bb8-5926-4c5d-a240-19e50328a747 button');\n",
              "      quickchartButtonEl.style.display =\n",
              "        google.colab.kernel.accessAllowed ? 'block' : 'none';\n",
              "    })();\n",
              "  </script>\n",
              "</div>\n",
              "    </div>\n",
              "  </div>\n"
            ],
            "application/vnd.google.colaboratory.intrinsic+json": {
              "type": "dataframe",
              "variable_name": "data",
              "summary": "{\n  \"name\": \"data\",\n  \"rows\": 400,\n  \"fields\": [\n    {\n      \"column\": \"UserID\",\n      \"properties\": {\n        \"dtype\": \"number\",\n        \"std\": 71658,\n        \"min\": 15566689,\n        \"max\": 15815236,\n        \"num_unique_values\": 400,\n        \"samples\": [\n          15697424,\n          15609669,\n          15776733\n        ],\n        \"semantic_type\": \"\",\n        \"description\": \"\"\n      }\n    },\n    {\n      \"column\": \"Kelamin\",\n      \"properties\": {\n        \"dtype\": \"category\",\n        \"num_unique_values\": 2,\n        \"samples\": [\n          \"Perempuan\",\n          \"Laki\"\n        ],\n        \"semantic_type\": \"\",\n        \"description\": \"\"\n      }\n    },\n    {\n      \"column\": \"Usia\",\n      \"properties\": {\n        \"dtype\": \"number\",\n        \"std\": 10,\n        \"min\": 18,\n        \"max\": 60,\n        \"num_unique_values\": 43,\n        \"samples\": [\n          50,\n          39\n        ],\n        \"semantic_type\": \"\",\n        \"description\": \"\"\n      }\n    },\n    {\n      \"column\": \"EstimasiGaji\",\n      \"properties\": {\n        \"dtype\": \"number\",\n        \"std\": 34096,\n        \"min\": 15000,\n        \"max\": 150000,\n        \"num_unique_values\": 117,\n        \"samples\": [\n          117000,\n          76000\n        ],\n        \"semantic_type\": \"\",\n        \"description\": \"\"\n      }\n    },\n    {\n      \"column\": \"Beli\",\n      \"properties\": {\n        \"dtype\": \"number\",\n        \"std\": 0,\n        \"min\": 0,\n        \"max\": 1,\n        \"num_unique_values\": 2,\n        \"samples\": [\n          1,\n          0\n        ],\n        \"semantic_type\": \"\",\n        \"description\": \"\"\n      }\n    }\n  ]\n}"
            }
          },
          "metadata": {},
          "execution_count": 20
        }
      ],
      "source": [
        "# Muat dataset\n",
        "data = pd.read_csv('/content/drive/MyDrive/Penggalian Data/Modul3/Iklan_sosmed.csv')\n",
        "data"
      ]
    },
    {
      "cell_type": "code",
      "source": [
        "# Jika diperlukan, lakukan pra-pemrosesan tambahan\n",
        "# Misalnya, mengisi missing values, mengkodekan variabel kategorikal, dll.\n",
        "data.info()"
      ],
      "metadata": {
        "id": "gq9TCjoFn-bN",
        "colab": {
          "base_uri": "https://localhost:8080/"
        },
        "outputId": "f9424fb6-7f5e-41fb-e7c6-6d42ffa791e5"
      },
      "execution_count": null,
      "outputs": [
        {
          "output_type": "stream",
          "name": "stdout",
          "text": [
            "<class 'pandas.core.frame.DataFrame'>\n",
            "RangeIndex: 400 entries, 0 to 399\n",
            "Data columns (total 5 columns):\n",
            " #   Column        Non-Null Count  Dtype \n",
            "---  ------        --------------  ----- \n",
            " 0   UserID        400 non-null    int64 \n",
            " 1   Kelamin       400 non-null    object\n",
            " 2   Usia          400 non-null    int64 \n",
            " 3   EstimasiGaji  400 non-null    int64 \n",
            " 4   Beli          400 non-null    int64 \n",
            "dtypes: int64(4), object(1)\n",
            "memory usage: 15.8+ KB\n"
          ]
        }
      ]
    },
    {
      "cell_type": "code",
      "source": [
        "#Encoding\n",
        "label_encoder = LabelEncoder()\n",
        "data['Kelamin'] = label_encoder.fit_transform(data['Kelamin'])\n",
        "\n",
        "data.to_csv('/content/drive/MyDrive/Penggalian Data/Modul3/Iklan_sosmed_encoded.csv', index=False)"
      ],
      "metadata": {
        "id": "p_3ZyWxO5y7U"
      },
      "execution_count": null,
      "outputs": []
    },
    {
      "cell_type": "code",
      "source": [
        "# Tentukan fitur dan target\n",
        "df = pd.read_csv('/content/drive/MyDrive/Penggalian Data/Modul3/Iklan_sosmed_encoded.csv')\n",
        "X = data.drop('Beli', axis=1)\n",
        "y = data['Beli']\n",
        "\n",
        "print(X)"
      ],
      "metadata": {
        "id": "eR0abEbkoBBx",
        "colab": {
          "base_uri": "https://localhost:8080/"
        },
        "outputId": "003c865c-6c25-4cf9-f9d8-86d3f0c88c8f"
      },
      "execution_count": null,
      "outputs": [
        {
          "output_type": "stream",
          "name": "stdout",
          "text": [
            "       UserID  Kelamin  Usia  EstimasiGaji\n",
            "0    15624510        0    19         19000\n",
            "1    15810944        0    35         20000\n",
            "2    15668575        1    26         43000\n",
            "3    15603246        1    27         57000\n",
            "4    15804002        0    19         76000\n",
            "..        ...      ...   ...           ...\n",
            "395  15691863        1    46         41000\n",
            "396  15706071        0    51         23000\n",
            "397  15654296        1    50         20000\n",
            "398  15755018        0    36         33000\n",
            "399  15594041        1    49         36000\n",
            "\n",
            "[400 rows x 4 columns]\n"
          ]
        }
      ]
    },
    {
      "cell_type": "code",
      "source": [
        "# Bagi data menjadi set pelatihan dan pengujian\n",
        "X_train, X_test, y_train, y_test = train_test_split(X, y, test_size=0.2, random_state=42)\n",
        "\n",
        "print(\"Bentuk set pelatihan (X_train, y_train):\")\n",
        "print(\"X_train:\", X_train.shape)\n",
        "print(\"y_train:\", y_train.shape)\n",
        "print(\"\\nBentuk set pengujian (X_test, y_test):\")\n",
        "print(\"X_test:\", X_test.shape)\n",
        "print(\"y_test:\", y_test.shape)"
      ],
      "metadata": {
        "id": "Hk8lXRc9oC2j",
        "colab": {
          "base_uri": "https://localhost:8080/"
        },
        "outputId": "b0ac6ffa-e99b-4b39-a37f-864e8fb0a7c3"
      },
      "execution_count": null,
      "outputs": [
        {
          "output_type": "stream",
          "name": "stdout",
          "text": [
            "Bentuk set pelatihan (X_train, y_train):\n",
            "X_train: (320, 4)\n",
            "y_train: (320,)\n",
            "\n",
            "Bentuk set pengujian (X_test, y_test):\n",
            "X_test: (80, 4)\n",
            "y_test: (80,)\n"
          ]
        }
      ]
    },
    {
      "cell_type": "code",
      "source": [
        "# Normalisasi fitur\n",
        "scaler = StandardScaler()\n",
        "X_train = scaler.fit_transform(X_train)\n",
        "X_test = scaler.transform(X_test)\n",
        "\n",
        "print('Train :')\n",
        "print(X_train)\n",
        "print('Test :')\n",
        "print(X_test)"
      ],
      "metadata": {
        "id": "RL5d0jYSoEn5",
        "colab": {
          "base_uri": "https://localhost:8080/"
        },
        "outputId": "e4c14663-6b2e-4b32-8e55-3729d611ae74"
      },
      "execution_count": null,
      "outputs": [
        {
          "output_type": "stream",
          "name": "stdout",
          "text": [
            "Train :\n",
            "[[-1.19424348  1.         -1.06675246 -0.38634438]\n",
            " [ 0.21592346 -1.          0.79753468 -1.22993871]\n",
            " [ 0.64683448  1.          0.11069205  1.853544  ]\n",
            " ...\n",
            " [-0.11569962  1.          0.50317355  1.82445454]\n",
            " [-1.52869143 -1.          0.11069205  0.19544481]\n",
            " [-1.45447944  1.         -0.57615058  0.45724994]]\n",
            "Test :\n",
            "[[ 0.11630156  1.          0.79753468 -1.40447546]\n",
            " [-1.10486346  1.          2.07309956  0.51542886]\n",
            " [ 1.21993527  1.         -0.96863208 -0.76450736]\n",
            " [ 0.49358178  1.          0.99377543  0.74814454]\n",
            " [ 0.14218461  1.         -0.87051171 -1.22993871]\n",
            " [ 1.5250491   1.         -0.77239133 -0.24089709]\n",
            " [-0.68868909  1.          0.89565505  1.06812859]\n",
            " [ 1.36270951  1.         -0.87051171  0.36998156]\n",
            " [ 0.4526142  -1.          0.20881242  0.13726589]\n",
            " [-1.08911099 -1.          0.40505317 -0.15362871]\n",
            " [ 0.53219762  1.         -0.28178945 -0.15362871]\n",
            " [ 1.24911632  1.          1.4843773  -1.05540195]\n",
            " [ 1.20364008  1.         -1.45923396 -0.64814952]\n",
            " [-1.3058189   1.         -1.75359508 -1.37538601]\n",
            " [ 0.50922294 -1.         -0.77239133  0.4863394 ]\n",
            " [ 1.16517732 -1.         -0.28178945  1.09721805]\n",
            " [-1.05831572  1.          1.38625693 -0.93904411]\n",
            " [-1.28138307  1.          0.79753468  0.10817643]\n",
            " [ 0.07495826 -1.          0.11069205 -0.82268628]\n",
            " [ 1.20048124 -1.          1.77873843 -0.29907601]\n",
            " [ 1.18439479  1.         -1.55735433 -1.25902817]\n",
            " [ 0.11994745 -1.         -0.87051171  0.28271318]\n",
            " [-1.34280661 -1.          0.89565505 -1.37538601]\n",
            " [-0.01244574  1.          2.07309956  0.16635535]\n",
            " [-0.89834178 -1.         -1.85171546 -1.49174384]\n",
            " [ 0.2366299  -1.          1.28813655 -1.37538601]\n",
            " [ 0.69708377 -1.          0.40505317  0.28271318]\n",
            " [-0.93089041 -1.         -0.0855487  -0.50270222]\n",
            " [-0.22606438  1.          1.68061805  1.59173886]\n",
            " [-0.23622278  1.         -1.85171546 -1.43356492]\n",
            " [ 0.03891681  1.          0.79753468 -0.85177573]\n",
            " [-0.36410731 -1.         -1.85171546 -0.00818141]\n",
            " [-0.1179957  -1.         -0.18366908  2.14443859]\n",
            " [ 1.64781268 -1.         -0.96863208  0.25362372]\n",
            " [ 1.72618544 -1.          0.20881242  1.06812859]\n",
            " [-0.13594684 -1.         -0.28178945  0.13726589]\n",
            " [ 1.17420855 -1.         -0.0855487  -0.4445233 ]\n",
            " [ 0.39650643  1.          0.01257167 -0.15362871]\n",
            " [ 1.02333543 -1.         -1.16487283 -1.17175979]\n",
            " [-0.31902071  1.         -1.94983583 -0.06636033]\n",
            " [-0.25676224 -1.          0.99377543 -1.08449141]\n",
            " [-0.55565579  1.         -1.36111358 -0.4445233 ]\n",
            " [ 0.80252241 -1.         -1.94983583 -0.53179168]\n",
            " [-0.80581684 -1.          0.89565505 -1.46265438]\n",
            " [ 0.28401258 -1.         -1.75359508 -0.61906006]\n",
            " [ 0.36953797  1.          0.60129393  1.99899129]\n",
            " [ 1.26347724 -1.         -0.87051171 -0.26998655]\n",
            " [ 1.19202054  1.         -0.67427095  0.02090805]\n",
            " [ 0.35612331 -1.          0.99377543 -0.85177573]\n",
            " [-1.49470949  1.         -0.37990983 -0.79359682]\n",
            " [ 1.52770699 -1.         -1.26299321  0.25362372]\n",
            " [-1.08368389  1.          1.4843773   0.3408921 ]\n",
            " [ 1.69399862  1.          0.01257167 -0.4445233 ]\n",
            " [ 0.94439213 -1.         -1.26299321  0.28271318]\n",
            " [ 1.45868552  1.         -0.0855487   0.28271318]\n",
            " [ 1.30444482  1.         -1.06675246 -1.14267033]\n",
            " [-1.32687323 -1.          2.17121993  0.92268129]\n",
            " [ 1.46941446  1.         -1.16487283  1.38811264]\n",
            " [-1.50105501 -1.         -0.67427095  0.10817643]\n",
            " [ 0.14166973 -1.         -0.67427095  0.16635535]\n",
            " [-0.15165758  1.          0.3069328  -0.56088114]\n",
            " [-1.70295671  1.         -0.28178945 -0.38634438]\n",
            " [ 0.84870834  1.          1.38625693  0.57360778]\n",
            " [-0.30337955  1.         -0.96863208  0.4863394 ]\n",
            " [-1.33662808 -1.         -0.96863208 -0.32816546]\n",
            " [ 0.55645254  1.         -1.06675246  1.94081237]\n",
            " [-1.41448596  1.          0.40505317  0.57360778]\n",
            " [ 0.79509147  1.          0.89565505  2.14443859]\n",
            " [ 0.95413306  1.          0.11069205 -0.32816546]\n",
            " [ 1.30060411  1.         -0.4780302   1.24266535]\n",
            " [ 1.19403831  1.          1.38625693  1.96990183]\n",
            " [ 1.65376857 -1.         -1.85171546  0.42816048]\n",
            " [ 0.55254225 -1.         -1.06675246 -0.35725492]\n",
            " [-0.69284986 -1.         -1.45923396 -1.46265438]\n",
            " [-0.23289695 -1.          0.89565505 -1.05540195]\n",
            " [-0.71057836  1.         -0.28178945 -0.5899706 ]\n",
            " [-0.05177127 -1.          1.77873843  1.82445454]\n",
            " [-0.89493246  1.          1.58249768 -1.28811763]\n",
            " [-1.10508611  1.         -0.28178945 -0.67723898]\n",
            " [ 0.34574226  1.         -0.0855487   0.22453427]]\n"
          ]
        }
      ]
    },
    {
      "cell_type": "markdown",
      "source": [
        "Langkah 2: Pelatihan Model Klasifikasi"
      ],
      "metadata": {
        "id": "5-hlq5z2nnEX"
      }
    },
    {
      "cell_type": "code",
      "source": [
        "# Inisialisasi model klasifikasi\n",
        "model = RandomForestClassifier(n_estimators=100, random_state=42)"
      ],
      "metadata": {
        "id": "D7mjApTUng3a"
      },
      "execution_count": null,
      "outputs": []
    },
    {
      "cell_type": "code",
      "source": [
        "# Pelatihan model\n",
        "model.fit(X_train, y_train)"
      ],
      "metadata": {
        "id": "3vPUHYEKoIyO",
        "colab": {
          "base_uri": "https://localhost:8080/",
          "height": 74
        },
        "outputId": "44d22b9f-01d6-4b10-d6fa-df528e1ef0ea"
      },
      "execution_count": null,
      "outputs": [
        {
          "output_type": "execute_result",
          "data": {
            "text/plain": [
              "RandomForestClassifier(random_state=42)"
            ],
            "text/html": [
              "<style>#sk-container-id-2 {color: black;background-color: white;}#sk-container-id-2 pre{padding: 0;}#sk-container-id-2 div.sk-toggleable {background-color: white;}#sk-container-id-2 label.sk-toggleable__label {cursor: pointer;display: block;width: 100%;margin-bottom: 0;padding: 0.3em;box-sizing: border-box;text-align: center;}#sk-container-id-2 label.sk-toggleable__label-arrow:before {content: \"▸\";float: left;margin-right: 0.25em;color: #696969;}#sk-container-id-2 label.sk-toggleable__label-arrow:hover:before {color: black;}#sk-container-id-2 div.sk-estimator:hover label.sk-toggleable__label-arrow:before {color: black;}#sk-container-id-2 div.sk-toggleable__content {max-height: 0;max-width: 0;overflow: hidden;text-align: left;background-color: #f0f8ff;}#sk-container-id-2 div.sk-toggleable__content pre {margin: 0.2em;color: black;border-radius: 0.25em;background-color: #f0f8ff;}#sk-container-id-2 input.sk-toggleable__control:checked~div.sk-toggleable__content {max-height: 200px;max-width: 100%;overflow: auto;}#sk-container-id-2 input.sk-toggleable__control:checked~label.sk-toggleable__label-arrow:before {content: \"▾\";}#sk-container-id-2 div.sk-estimator input.sk-toggleable__control:checked~label.sk-toggleable__label {background-color: #d4ebff;}#sk-container-id-2 div.sk-label input.sk-toggleable__control:checked~label.sk-toggleable__label {background-color: #d4ebff;}#sk-container-id-2 input.sk-hidden--visually {border: 0;clip: rect(1px 1px 1px 1px);clip: rect(1px, 1px, 1px, 1px);height: 1px;margin: -1px;overflow: hidden;padding: 0;position: absolute;width: 1px;}#sk-container-id-2 div.sk-estimator {font-family: monospace;background-color: #f0f8ff;border: 1px dotted black;border-radius: 0.25em;box-sizing: border-box;margin-bottom: 0.5em;}#sk-container-id-2 div.sk-estimator:hover {background-color: #d4ebff;}#sk-container-id-2 div.sk-parallel-item::after {content: \"\";width: 100%;border-bottom: 1px solid gray;flex-grow: 1;}#sk-container-id-2 div.sk-label:hover label.sk-toggleable__label {background-color: #d4ebff;}#sk-container-id-2 div.sk-serial::before {content: \"\";position: absolute;border-left: 1px solid gray;box-sizing: border-box;top: 0;bottom: 0;left: 50%;z-index: 0;}#sk-container-id-2 div.sk-serial {display: flex;flex-direction: column;align-items: center;background-color: white;padding-right: 0.2em;padding-left: 0.2em;position: relative;}#sk-container-id-2 div.sk-item {position: relative;z-index: 1;}#sk-container-id-2 div.sk-parallel {display: flex;align-items: stretch;justify-content: center;background-color: white;position: relative;}#sk-container-id-2 div.sk-item::before, #sk-container-id-2 div.sk-parallel-item::before {content: \"\";position: absolute;border-left: 1px solid gray;box-sizing: border-box;top: 0;bottom: 0;left: 50%;z-index: -1;}#sk-container-id-2 div.sk-parallel-item {display: flex;flex-direction: column;z-index: 1;position: relative;background-color: white;}#sk-container-id-2 div.sk-parallel-item:first-child::after {align-self: flex-end;width: 50%;}#sk-container-id-2 div.sk-parallel-item:last-child::after {align-self: flex-start;width: 50%;}#sk-container-id-2 div.sk-parallel-item:only-child::after {width: 0;}#sk-container-id-2 div.sk-dashed-wrapped {border: 1px dashed gray;margin: 0 0.4em 0.5em 0.4em;box-sizing: border-box;padding-bottom: 0.4em;background-color: white;}#sk-container-id-2 div.sk-label label {font-family: monospace;font-weight: bold;display: inline-block;line-height: 1.2em;}#sk-container-id-2 div.sk-label-container {text-align: center;}#sk-container-id-2 div.sk-container {/* jupyter's `normalize.less` sets `[hidden] { display: none; }` but bootstrap.min.css set `[hidden] { display: none !important; }` so we also need the `!important` here to be able to override the default hidden behavior on the sphinx rendered scikit-learn.org. See: https://github.com/scikit-learn/scikit-learn/issues/21755 */display: inline-block !important;position: relative;}#sk-container-id-2 div.sk-text-repr-fallback {display: none;}</style><div id=\"sk-container-id-2\" class=\"sk-top-container\"><div class=\"sk-text-repr-fallback\"><pre>RandomForestClassifier(random_state=42)</pre><b>In a Jupyter environment, please rerun this cell to show the HTML representation or trust the notebook. <br />On GitHub, the HTML representation is unable to render, please try loading this page with nbviewer.org.</b></div><div class=\"sk-container\" hidden><div class=\"sk-item\"><div class=\"sk-estimator sk-toggleable\"><input class=\"sk-toggleable__control sk-hidden--visually\" id=\"sk-estimator-id-2\" type=\"checkbox\" checked><label for=\"sk-estimator-id-2\" class=\"sk-toggleable__label sk-toggleable__label-arrow\">RandomForestClassifier</label><div class=\"sk-toggleable__content\"><pre>RandomForestClassifier(random_state=42)</pre></div></div></div></div></div>"
            ]
          },
          "metadata": {},
          "execution_count": 27
        }
      ]
    },
    {
      "cell_type": "markdown",
      "source": [
        "Langkah 3: Evaluasi Hasil Klasifikasi"
      ],
      "metadata": {
        "id": "HQhEe5QGnrOR"
      }
    },
    {
      "cell_type": "code",
      "source": [
        "# Lakukan prediksi pada data pengujian\n",
        "y_pred = model.predict(X_test)"
      ],
      "metadata": {
        "id": "ZSmnxBsuntBr"
      },
      "execution_count": null,
      "outputs": []
    },
    {
      "cell_type": "code",
      "source": [
        "# Evaluasi model\n",
        "print(classification_report(y_test, y_pred))"
      ],
      "metadata": {
        "id": "_86vJcRjoMz1",
        "colab": {
          "base_uri": "https://localhost:8080/"
        },
        "outputId": "1c5ad662-7ef7-4b4f-c12d-c0e5e09d3678"
      },
      "execution_count": null,
      "outputs": [
        {
          "output_type": "stream",
          "name": "stdout",
          "text": [
            "              precision    recall  f1-score   support\n",
            "\n",
            "           0       0.98      0.90      0.94        52\n",
            "           1       0.84      0.96      0.90        28\n",
            "\n",
            "    accuracy                           0.93        80\n",
            "   macro avg       0.91      0.93      0.92        80\n",
            "weighted avg       0.93      0.93      0.93        80\n",
            "\n"
          ]
        }
      ]
    }
  ]
}